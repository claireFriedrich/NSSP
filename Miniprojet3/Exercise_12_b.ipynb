{
 "cells": [
  {
   "cell_type": "markdown",
   "metadata": {},
   "source": [
    "# Muscle Synergies"
   ]
  },
  {
   "cell_type": "code",
   "execution_count": null,
   "metadata": {},
   "outputs": [],
   "source": [
    "import numpy as np\n",
    "import matplotlib.pyplot as plt\n",
    "import seaborn as sns\n",
    "sns.set()\n",
    "\n",
    "from scipy.io import loadmat"
   ]
  },
  {
   "cell_type": "markdown",
   "metadata": {},
   "source": [
    "In this notebook we will explore the concept of synergy in EMG recording. We will be working with high density sEMG dataset.\n",
    "\n",
    "Let's start with the basic loading and preprocessing. Install gdown and download file if you haven't."
   ]
  },
  {
   "cell_type": "code",
   "execution_count": null,
   "metadata": {},
   "outputs": [],
   "source": [
    "# !pip install gdown"
   ]
  },
  {
   "cell_type": "code",
   "execution_count": null,
   "metadata": {},
   "outputs": [],
   "source": [
    "# import gdown\n",
    "# url = \"https://drive.google.com/uc?id=1Y8Zsm3e2KhElaQbcKykUURS65a3ce27g\"\n",
    "# output = \"subj1_relevant_vars.mat\"\n",
    "# gdown.download(url, output, quiet = False)"
   ]
  },
  {
   "cell_type": "code",
   "execution_count": null,
   "metadata": {
    "scrolled": true
   },
   "outputs": [],
   "source": [
    "data = loadmat(\"subj1_relevant_vars.mat\")\n",
    "data.keys()"
   ]
  },
  {
   "cell_type": "code",
   "execution_count": null,
   "metadata": {},
   "outputs": [],
   "source": [
    "emg_data = data[\"emg_flexors_new\"]\n",
    "print(emg_data.shape)\n",
    "\n",
    "emg_data = emg_data.reshape(emg_data.shape[0], 64) # reshape to 64 channels\n",
    "fs = data[\"Fs\"][0, 0] # sampling frequency\n"
   ]
  },
  {
   "cell_type": "code",
   "execution_count": null,
   "metadata": {},
   "outputs": [],
   "source": [
    "from scipy.signal import butter\n",
    "from scipy.signal import sosfiltfilt\n",
    "import time\n",
    "\n",
    "\n",
    "sos = butter(N=4, fs=fs, Wn=(5, 500), btype=\"bandpass\", output=\"sos\")\n",
    "t = time.time()\n",
    "emg_filtered = sosfiltfilt(sos, emg_data)\n",
    "print(\"Elapsed time: \", time.time() - t)"
   ]
  },
  {
   "cell_type": "code",
   "execution_count": null,
   "metadata": {},
   "outputs": [],
   "source": [
    "from scipy.ndimage import convolve1d\n",
    "# Easier method to compute the envelope \n",
    "\n",
    "emg_subsampled = emg_filtered[::2, :] # subsample by steps of 2 to reduce data size for easier computation\n",
    "emg_rectified = emg_subsampled ** 2 # rectify the signal. We could also use abs\n",
    "\n",
    "weights = np.ones(200)\n",
    "t = time.time()\n",
    "emg_envelope_200 = convolve1d(emg_rectified, weights=weights, axis=0)\n",
    "print(\"Elapsed time: \", time.time() - t)"
   ]
  },
  {
   "cell_type": "code",
   "execution_count": null,
   "metadata": {},
   "outputs": [],
   "source": [
    "#lets take a quick look at the data\n",
    "\n",
    "fig, ax = plt.subplots(8, 1, figsize=(15, 16))\n",
    "for i in range(8):\n",
    "    ax[i].plot(emg_envelope_200[:100000, i])\n",
    "    ax[i].set_title(\"Channel {}\".format(i))\n",
    "    ax[i].set_xlabel(\"Time (samples)\")\n",
    "    ax[i].set_ylabel(\"Envelope\")\n",
    "\n",
    "plt.tight_layout()"
   ]
  },
  {
   "cell_type": "markdown",
   "metadata": {},
   "source": [
    "# NMF for synergy"
   ]
  },
  {
   "cell_type": "code",
   "execution_count": null,
   "metadata": {},
   "outputs": [],
   "source": [
    "from sklearn.decomposition import NMF\n",
    "from tqdm.notebook import tqdm\n",
    "\n",
    "# For now let's just use 3 components. Parameters: init=\"nndsvda\", max_iter=500.\n",
    "\n",
    "nmf = ???\n",
    "\n",
    "t = time.time()\n",
    "nmf.fit(emg_envelope_200)\n",
    "print(\"Elapsed time: \", time.time() - t)\n",
    "\n",
    "# Use nmf.fit_transform (W) and nmf.components_ (H) to decompose the EMG data into muscle synergies and activation coefficients.\n",
    "W = ???\n",
    "H = ???"
   ]
  },
  {
   "cell_type": "code",
   "execution_count": null,
   "metadata": {},
   "outputs": [],
   "source": [
    "# Plot synthetic EMG data\n",
    "plt.figure(figsize=(12, 6))\n",
    "plt.subplot(3, 1, 1)\n",
    "plt.plot(emg_envelope_200)\n",
    "plt.title('EMG envelope')\n",
    "plt.xlabel('Time')\n",
    "plt.ylabel('EMG Signal')\n",
    "\n",
    "# Plot extracted synergies\n",
    "plt.subplot(3, 1, 2)\n",
    "plt.plot(H.T)\n",
    "plt.title('Extracted Muscle Synergies')\n",
    "plt.xlabel('Channels')\n",
    "plt.ylabel('Synergy Value')\n",
    "\n",
    "# Plot extracted activation coefficients\n",
    "plt.subplot(3, 1, 3)\n",
    "plt.plot(W)\n",
    "plt.title('Extracted Activation Coefficients')\n",
    "plt.xlabel('Time')\n",
    "plt.ylabel('Activation Level')\n",
    "\n",
    "plt.tight_layout()"
   ]
  },
  {
   "cell_type": "markdown",
   "metadata": {},
   "source": [
    "The first plot shows the EMG envelop. This data is a mixture of muscle synergies over time across different EMG channels.\n",
    "\n",
    "The second plot displays the synergies as extracted by the NMF. Each line represents one synergy and how it contributes to each EMG channel.\n",
    "\n",
    "The third plot illustrates the activation coefficients over time. These coefficients indicate when and how strongly each synergy is activated throughout the dataset.\n",
    "\n",
    "Observing the generated plots, we notice distinct patterns in the muscle synergies' distribution and activation. The orange synergy predominantly influences the initial half of the EMG channels, whereas the blue synergy appears more significantly in the latter half. In terms of activation timing, the orange synergy exhibits primary activation towards the end of the time period. In contrast, the blue synergy demonstrates a more pronounced activation around the midpoint. Notably, the green synergy, which was not previously mentioned, shows a consistent level of activation throughout the entire duration. This consistent activation suggests a more fundamental role of the green synergy in the overall muscle function."
   ]
  },
  {
   "cell_type": "markdown",
   "metadata": {},
   "source": [
    "### Reconstruction error\n",
    "Moving forward, we will explore the difference in reconstruction error associated with varying the number of components in Non-negative Matrix Factorization (NMF). This analysis will help us understand the impact of different component counts on the accuracy and fidelity of the NMF model in representing the original EMG data."
   ]
  },
  {
   "cell_type": "code",
   "execution_count": null,
   "metadata": {},
   "outputs": [],
   "source": [
    "reconstruction_err_200 = np.zeros(9)\n",
    "\n",
    "# we will do NMF with 2 to 10 components\n",
    "for i in range(9):\n",
    "    print(\"Running NMF with {} components\".format(i + 2))\n",
    "          \n",
    "    nmf = NMF(n_components=(i + 2), init=\"nndsvda\", max_iter=500)\n",
    "\n",
    "    t = time.time()\n",
    "    nmf.fit(emg_envelope_200)\n",
    "    print(\"Elapsed time: \", time.time() - t)\n",
    "\n",
    "    reconstruction_err_200[i] = nmf.reconstruction_err_"
   ]
  },
  {
   "cell_type": "markdown",
   "metadata": {},
   "source": [
    "We can also vary the parameters of the envelop to see how it can affect the NMF. This can illustrate how using different preprocessing pipeline can affect the synergy of NMF"
   ]
  },
  {
   "cell_type": "code",
   "execution_count": null,
   "metadata": {},
   "outputs": [],
   "source": [
    "weights = np.ones(100)\n",
    "t = time.time()\n",
    "emg_envelope_100 = convolve1d(emg_rectified, weights=weights, axis=0)\n",
    "print(\"Elapsed time: \", time.time() - t)"
   ]
  },
  {
   "cell_type": "code",
   "execution_count": null,
   "metadata": {},
   "outputs": [],
   "source": [
    "reconstruction_err_100 = np.zeros(9)\n",
    "for i in range(9):\n",
    "    nmf = NMF(n_components=(i + 2), init=\"nndsvda\", max_iter=500)\n",
    "\n",
    "    t = time.time()\n",
    "    nmf.fit(emg_envelope_100)\n",
    "    print(\"Elapsed time: \", time.time() - t)\n",
    "\n",
    "    reconstruction_err_100[i] = nmf.reconstruction_err_"
   ]
  },
  {
   "cell_type": "code",
   "execution_count": null,
   "metadata": {},
   "outputs": [],
   "source": [
    "#lets plot the reconstruction error\n",
    "\n",
    "fig, ax = plt.subplots()\n",
    "ax.plot(np.arange(2, 11), reconstruction_err_200, label=\"200 moving average\")\n",
    "ax.plot(np.arange(2, 11), reconstruction_err_100, label=\"100 moving average\")\n",
    "ax.set_xlabel(\"Number of components\")\n",
    "ax.set_ylabel(\"Reconstruction error\")\n",
    "ax.legend()"
   ]
  }
 ],
 "metadata": {
  "kernelspec": {
   "display_name": "Python 3",
   "language": "python",
   "name": "python3"
  },
  "language_info": {
   "codemirror_mode": {
    "name": "ipython",
    "version": 3
   },
   "file_extension": ".py",
   "mimetype": "text/x-python",
   "name": "python",
   "nbconvert_exporter": "python",
   "pygments_lexer": "ipython3",
   "version": "3.10.6"
  }
 },
 "nbformat": 4,
 "nbformat_minor": 4
}
