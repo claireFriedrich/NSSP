{
 "cells": [
  {
   "cell_type": "code",
   "execution_count": 1,
   "id": "c281a936-dbaa-430b-97a9-cfb2574734f0",
   "metadata": {
    "tags": []
   },
   "outputs": [],
   "source": [
    "# General purpose imports to handle paths, files etc\n",
    "import os\n",
    "import os.path as op\n",
    "import glob\n",
    "import pandas as pd\n",
    "import numpy as np\n",
    "import json\n",
    "\n",
    "\n",
    "# Useful functions to define and import datasets from open neuro\n",
    "import openneuro\n",
    "from mne.datasets import sample\n",
    "from mne_bids import BIDSPath, read_raw_bids, print_dir_tree, make_report\n",
    "\n",
    "\n",
    "# Useful imports to define the direct download function below\n",
    "import requests\n",
    "import urllib.request\n",
    "from tqdm import tqdm\n",
    "\n",
    "\n",
    "# FSL function wrappers which we will call from python directly\n",
    "from fsl.wrappers import fast, bet\n",
    "from fsl.wrappers.misc import fslroi\n",
    "from fsl.wrappers import flirt\n",
    "\n",
    "\n",
    "\n",
    "def reset_overlays():\n",
    "    \"\"\"\n",
    "    Clears view and completely remove visualization. All files opened in FSLeyes are closed.\n",
    "    The view (along with any color map) is reset to the regular ortho panel.\n",
    "    \"\"\"\n",
    "    l = frame.overlayList\n",
    "    while(len(l)>0):\n",
    "        del l[0]\n",
    "    frame.removeViewPanel(frame.viewPanels[0])\n",
    "    # Put back an ortho panel in our viz for future displays\n",
    "    frame.addViewPanel(OrthoPanel)\n",
    "    \n",
    "def mkdir_no_exist(path):\n",
    "    if not op.isdir(path):\n",
    "        os.makedirs(path)\n",
    "        \n",
    "class DownloadProgressBar(tqdm):\n",
    "    def update_to(self, b=1, bsize=1, tsize=None):\n",
    "        if tsize is not None:\n",
    "            self.total = tsize\n",
    "        self.update(b * bsize - self.n)\n",
    "\n",
    "\n",
    "def download_url(url, output_path):\n",
    "    with DownloadProgressBar(unit='B', unit_scale=True,\n",
    "                             miniters=1, desc=url.split('/')[-1]) as t:\n",
    "        urllib.request.urlretrieve(url, filename=output_path, reporthook=t.update_to)\n",
    "\n",
    "def direct_file_download_open_neuro(file_list, file_types, dataset_id, dataset_version, save_dirs):\n",
    "    # https://openneuro.org/crn/datasets/ds004226/snapshots/1.0.0/files/sub-001:sub-001_scans.tsv\n",
    "    for i, n in enumerate(file_list):\n",
    "        subject = n.split('_')[0]\n",
    "        download_link = 'https://openneuro.org/crn/datasets/{}/snapshots/{}/files/{}:{}:{}'.format(dataset_id, dataset_version, subject, file_types[i],n)\n",
    "        print('Attempting download from ', download_link)\n",
    "        download_url(download_link, op.join(save_dirs[i], n))\n",
    "        print('Ok')\n",
    "        \n",
    "def get_json_from_file(fname):\n",
    "    f = open(fname)\n",
    "    data = json.load(f)\n",
    "    f.close()\n",
    "    return data"
   ]
  },
  {
   "cell_type": "code",
   "execution_count": 2,
   "id": "a0ae7c93",
   "metadata": {},
   "outputs": [],
   "source": [
    "#loading the data\n",
    "dataset_id = 'ds000102'\n",
    "subject = '01' \n",
    "\n",
    "# create dataset folder\n",
    "sample_path = \"dataset\"\n",
    "mkdir_no_exist(sample_path)\n",
    "bids_root = op.join(os.path.abspath(\"\"),sample_path, dataset_id)\n",
    "deriv_root = op.join(bids_root, 'derivatives')\n",
    "preproc_root = op.join(bids_root, 'derivatives','preprocessed_data')\n",
    "\n",
    "mkdir_no_exist(bids_root)\n",
    "\n",
    "\n",
    "func_path = op.join(bids_root, 'sub-01', 'func')\n",
    "anat_path = op.join(bids_root, 'sub-01', 'anat')\n",
    "mkdir_no_exist(op.join(bids_root, 'sub-01'))\n",
    "mkdir_no_exist(func_path)\n",
    "mkdir_no_exist(anat_path)"
   ]
  },
  {
   "cell_type": "code",
   "execution_count": 3,
   "id": "bef9d22b-4695-4c5c-98d2-233107692487",
   "metadata": {
    "tags": []
   },
   "outputs": [
    {
     "name": "stdout",
     "output_type": "stream",
     "text": [
      "Attempting download from  https://openneuro.org/crn/datasets/ds000102/snapshots/00001/files/sub-01:func:sub-01_task-flanker_run-1_bold.nii.gz\n"
     ]
    },
    {
     "name": "stderr",
     "output_type": "stream",
     "text": [
      "sub-01:func:sub-01_task-flanker_run-1_bold.nii.gz: 28.1MB [00:11, 2.38MB/s]                              \n"
     ]
    },
    {
     "name": "stdout",
     "output_type": "stream",
     "text": [
      "Ok\n",
      "Attempting download from  https://openneuro.org/crn/datasets/ds000102/snapshots/00001/files/sub-01:func:sub-01_task-flanker_run-2_bold.nii.gz\n"
     ]
    },
    {
     "name": "stderr",
     "output_type": "stream",
     "text": [
      "sub-01:func:sub-01_task-flanker_run-2_bold.nii.gz: 28.1MB [00:08, 3.21MB/s]                            \n"
     ]
    },
    {
     "name": "stdout",
     "output_type": "stream",
     "text": [
      "Ok\n",
      "Attempting download from  https://openneuro.org/crn/datasets/ds000102/snapshots/00001/files/sub-01:anat:sub-01_T1w.nii.gz\n"
     ]
    },
    {
     "name": "stderr",
     "output_type": "stream",
     "text": [
      "sub-01:anat:sub-01_T1w.nii.gz: 10.6MB [00:01, 5.47MB/s]                            "
     ]
    },
    {
     "name": "stdout",
     "output_type": "stream",
     "text": [
      "Ok\n"
     ]
    },
    {
     "name": "stderr",
     "output_type": "stream",
     "text": [
      "\n"
     ]
    }
   ],
   "source": [
    "direct_file_download_open_neuro(file_list=['sub-01_task-flanker_run-1_bold.nii.gz', \n",
    "                                           'sub-01_task-flanker_run-2_bold.nii.gz',\n",
    "                                           'sub-01_T1w.nii.gz'], \n",
    "                                file_types=['func', 'func', 'anat'], \n",
    "                                dataset_id=dataset_id, \n",
    "                                dataset_version='00001', \n",
    "                                save_dirs=[func_path,\n",
    "                                           func_path,\n",
    "                                           anat_path])\n",
    "\n",
    "mkdir_no_exist(op.join(bids_root, 'derivatives'))\n",
    "preproc_root = op.join(bids_root, 'derivatives','preprocessed_data')\n",
    "mkdir_no_exist(preproc_root)\n",
    "mkdir_no_exist(op.join(preproc_root, 'sub-01'))\n",
    "mkdir_no_exist(op.join(preproc_root, 'sub-01', 'anat'))\n",
    "mkdir_no_exist(op.join(preproc_root, 'sub-01', 'func'))\n",
    "mkdir_no_exist(op.join(preproc_root, 'sub-01', 'fmap'))"
   ]
  },
  {
   "cell_type": "markdown",
   "id": "08668336",
   "metadata": {},
   "source": [
    "# 1- Visualizing data"
   ]
  },
  {
   "cell_type": "markdown",
   "id": "44857043",
   "metadata": {},
   "source": [
    "Let's first begin to visualize the **anatomical scan** of our chosen subject: sub-01 !"
   ]
  },
  {
   "cell_type": "code",
   "execution_count": 10,
   "id": "80fed416-fe70-4545-a2a2-dc18c92b78a1",
   "metadata": {},
   "outputs": [
    {
     "data": {
      "text/plain": [
       "Image(sub-01_T1w, /home/cfriedri/Desktop/MyFiles/NX-421/NSSP/dataset/ds000102/sub-01/anat/sub-01_T1w.nii.gz)"
      ]
     },
     "execution_count": 10,
     "metadata": {},
     "output_type": "execute_result"
    }
   ],
   "source": [
    "reset_overlays()\n",
    "load(op.join(bids_root, 'sub-01', 'anat', 'sub-01_T1w.nii.gz'))"
   ]
  },
  {
   "cell_type": "markdown",
   "id": "94da7477",
   "metadata": {},
   "source": [
    "<img src=\"imgs/vis_anat.png\">"
   ]
  },
  {
   "cell_type": "markdown",
   "id": "123d45b7",
   "metadata": {},
   "source": [
    "And let's now visualize the **functional scan**."
   ]
  },
  {
   "cell_type": "code",
   "execution_count": 11,
   "id": "88be62cb",
   "metadata": {},
   "outputs": [
    {
     "data": {
      "text/plain": [
       "Image(sub-01_task-flanker_run-1_bold, /home/cfriedri/Desktop/MyFiles/NX-421/NSSP/dataset/ds000102/sub-01/func/sub-01_task-flanker_run-1_bold.nii.gz)"
      ]
     },
     "execution_count": 11,
     "metadata": {},
     "output_type": "execute_result"
    }
   ],
   "source": [
    "reset_overlays()\n",
    "load(op.join(bids_root, 'sub-01', 'func', 'sub-01_task-flanker_run-1_bold.nii.gz'))"
   ]
  },
  {
   "cell_type": "markdown",
   "id": "37e146b2",
   "metadata": {},
   "source": [
    "<center><img src=\"imgs/vis_func_run1.gif\"/>\n",
    "    <p style=\"text-align:center;\"><i>Functional data for sub01 for the first run of the Flanker task</i></p></center>\n"
   ]
  },
  {
   "cell_type": "code",
   "execution_count": 12,
   "id": "d31b2310",
   "metadata": {},
   "outputs": [
    {
     "data": {
      "text/plain": [
       "Image(sub-01_task-flanker_run-2_bold, /home/cfriedri/Desktop/MyFiles/NX-421/NSSP/dataset/ds000102/sub-01/func/sub-01_task-flanker_run-2_bold.nii.gz)"
      ]
     },
     "execution_count": 12,
     "metadata": {},
     "output_type": "execute_result"
    }
   ],
   "source": [
    "reset_overlays()\n",
    "load(op.join(bids_root, 'sub-01', 'func', 'sub-01_task-flanker_run-2_bold.nii.gz'))"
   ]
  },
  {
   "cell_type": "markdown",
   "id": "174ef300",
   "metadata": {},
   "source": [
    "<center><img src=\"imgs/vis_func_run2.gif\"/>\n",
    "    <p style=\"text-align:center;\"><i>Functional data for sub01 for the second run of the Flanker task</i></p></center>\n"
   ]
  },
  {
   "cell_type": "markdown",
   "id": "8e5d121c",
   "metadata": {},
   "source": [
    "# 2- Brain extraction\n",
    "We will perform brain extraction on the anatomical volume, so basically remove the skull to end up only with the brain. To do this we will use the FSL program BET (*brain extraction tool*) which will generate a mask for the brain region of interest. \n",
    "\n",
    "The resulting mask will be stored in the *derivatives* folder to make sure that the raw source data is kept untouched."
   ]
  },
  {
   "cell_type": "code",
   "execution_count": 39,
   "id": "3d717404",
   "metadata": {},
   "outputs": [],
   "source": [
    "# source anatomical data (raw)\n",
    "anatomical_path = op.join(bids_root, 'sub-01', 'anat', 'sub-01_T1w.nii.gz')"
   ]
  },
  {
   "cell_type": "code",
   "execution_count": 31,
   "id": "16b5a600",
   "metadata": {},
   "outputs": [
    {
     "data": {
      "text/plain": [
       "{}"
      ]
     },
     "execution_count": 31,
     "metadata": {},
     "output_type": "execute_result"
    }
   ],
   "source": [
    "# the extracted brain data\n",
    "betted_brain_05_path = op.join(preproc_root, 'sub-01', 'anat', 'sub-01_T1w_05')\n",
    "\n",
    "# the mask used for brain extraction\n",
    "resulting_mask_05_path = op.join(preproc_root, 'sub-01', 'anat', 'sub-01_T1w_05_mask')\n",
    "\n",
    "# the function to extract the brain knowing the mask parameters\n",
    "bet(anatomical_path, betted_brain_05_path, mask=resulting_mask_05_path)"
   ]
  },
  {
   "cell_type": "code",
   "execution_count": 34,
   "id": "823e2fed",
   "metadata": {},
   "outputs": [
    {
     "data": {
      "text/plain": [
       "Image(sub-01_T1w_05_mask, /home/cfriedri/Desktop/MyFiles/NX-421/NSSP/dataset/ds000102/derivatives/preprocessed_data/sub-01/anat/sub-01_T1w_05_mask.nii.gz)"
      ]
     },
     "execution_count": 34,
     "metadata": {},
     "output_type": "execute_result"
    }
   ],
   "source": [
    "reset_overlays()\n",
    "load(anatomical_path)\n",
    "load(resulting_mask_05_path)"
   ]
  },
  {
   "cell_type": "markdown",
   "id": "f20115bf",
   "metadata": {},
   "source": [
    "<center><img src=\"imgs/bet_mask_default.png\"/>\n",
    "    <p style=\"text-align:center;\"><i>Brain extraction on the anatomical image using a default fractional intensity threshold of 0.5</i></p></center>"
   ]
  },
  {
   "cell_type": "markdown",
   "id": "e27551b2",
   "metadata": {},
   "source": [
    "The results above were obtained by using bet with a default fractional intensity threshold of 0.5. But let's explore the results with different franctional intensity thresholds ! For comparison we will focus on voxel (87,126,116)\n",
    "\n",
    "> **_Fractional intensity threshold:_** ranging from 0 to 1, this threshold determines the amount of brain extracted by the mask. If we think that too much brain has been remove when using the default threshold, we should set this threshold to a smaller number to obtain a larger brain outline.\n"
   ]
  },
  {
   "cell_type": "code",
   "execution_count": 42,
   "id": "c9a1833e",
   "metadata": {},
   "outputs": [
    {
     "name": "stdout",
     "output_type": "stream",
     "text": [
      "Wrapper for the ``bet`` command.\n",
      "\n",
      "    :arg mask:          Generate a brain mask\n",
      "    :arg seg:           If ``False``, a brain extracted image is not\n",
      "                        generated.\n",
      "    :arg robust:        Robust brain centre estimation\n",
      "    :arg fracintensity: Fractional intensity threshold\n",
      "\n",
      "    Refer to the ``bet`` command-line help for details on all arguments.\n"
     ]
    }
   ],
   "source": [
    "# to find threshold argument\n",
    "help(bet)"
   ]
  },
  {
   "cell_type": "code",
   "execution_count": 40,
   "id": "23f4a383",
   "metadata": {},
   "outputs": [
    {
     "data": {
      "text/plain": [
       "Image(sub-01_T1w_01_mask, /home/cfriedri/Desktop/MyFiles/NX-421/NSSP/dataset/ds000102/derivatives/preprocessed_data/sub-01/anat/sub-01_T1w_01_mask.nii.gz)"
      ]
     },
     "execution_count": 40,
     "metadata": {},
     "output_type": "execute_result"
    }
   ],
   "source": [
    "# the extracted brain data\n",
    "betted_brain_01_path = op.join(preproc_root, 'sub-01', 'anat', 'sub-01_T1w_01')\n",
    "\n",
    "# the mask used for brain extraction\n",
    "resulting_mask_01_path = op.join(preproc_root, 'sub-01', 'anat', 'sub-01_T1w_01_mask')\n",
    "\n",
    "# the function to extract the brain knowing the mask parameters\n",
    "bet(anatomical_path, betted_brain_01_path, mask=resulting_mask_01_path, fracintensity=0.1)\n",
    "\n",
    "reset_overlays()\n",
    "load(anatomical_path)\n",
    "load(resulting_mask_01_path)"
   ]
  },
  {
   "cell_type": "markdown",
   "id": "04de84c9",
   "metadata": {},
   "source": [
    "<center><img src=\"imgs/bet_mask_01.png\"/>\n",
    "    <p style=\"text-align:center;\"><i>Brain extraction on the anatomical image using a fractional intensity threshold of 0.1</i></p></center>"
   ]
  },
  {
   "cell_type": "markdown",
   "id": "4eeb4b44",
   "metadata": {},
   "source": [
    "We that by setting a lower fractional intensity threshold, a larger region of the brain is extracted by bet."
   ]
  },
  {
   "cell_type": "code",
   "execution_count": 41,
   "id": "dea782ee",
   "metadata": {},
   "outputs": [
    {
     "data": {
      "text/plain": [
       "Image(sub-01_T1w_09_mask, /home/cfriedri/Desktop/MyFiles/NX-421/NSSP/dataset/ds000102/derivatives/preprocessed_data/sub-01/anat/sub-01_T1w_09_mask.nii.gz)"
      ]
     },
     "execution_count": 41,
     "metadata": {},
     "output_type": "execute_result"
    }
   ],
   "source": [
    "# the extracted brain data\n",
    "betted_brain_09_path = op.join(preproc_root, 'sub-01', 'anat', 'sub-01_T1w_09')\n",
    "\n",
    "# the mask used for brain extraction\n",
    "resulting_mask_09_path = op.join(preproc_root, 'sub-01', 'anat', 'sub-01_T1w_09_mask')\n",
    "\n",
    "# the function to extract the brain knowing the mask parameters\n",
    "bet(anatomical_path, betted_brain_09_path, mask=resulting_mask_09_path, fracintensity=0.9)\n",
    "\n",
    "reset_overlays()\n",
    "load(anatomical_path)\n",
    "load(resulting_mask_09_path)"
   ]
  },
  {
   "cell_type": "markdown",
   "id": "87248e19",
   "metadata": {},
   "source": [
    "<center><img src=\"imgs/bet_mask_09.png\"/>\n",
    "    <p style=\"text-align:center;\"><i>Brain extraction on the anatomical image using a fractional intensity threshold of 0.9</i></p></center>"
   ]
  },
  {
   "cell_type": "markdown",
   "id": "c32c0e3a",
   "metadata": {},
   "source": [
    "We that by setting a higher fractional intensity threshold, a more restricted region of the brain is extracted by bet."
   ]
  },
  {
   "cell_type": "markdown",
   "id": "0c409197",
   "metadata": {},
   "source": [
    "# 3- Motion correction"
   ]
  },
  {
   "cell_type": "markdown",
   "id": "d6c41995",
   "metadata": {},
   "source": [
    "### a) Motion parameters"
   ]
  },
  {
   "cell_type": "code",
   "execution_count": 4,
   "id": "a8d40167",
   "metadata": {},
   "outputs": [
    {
     "name": "stderr",
     "output_type": "stream",
     "text": [
      "Processed data will be saved as /home/ffriedli/Desktop/MyFiles/NSSP/dataset/ds000102/derivatives/preprocessed_data/sub-01/func/sub-01_task-flanker_run-1_bold_moco\n",
      "\n",
      "McFLIRT v 2.0 - FMRI motion correction\n",
      "\n",
      "Reading time series... \n",
      "first iteration - 8mm scaling, set tolerance\n",
      "Rescaling reference volume [73] to 8 mm pixels\n",
      "Registering volumes ... [74][75][76][77][78][79][80][81][82][83][84][85][86][87][88][89][90][91][92][93][94][95][96][97][98][99][100][101][102][103][104][105][106][107][108][109][110][111][112][113][114][115][116][117][118][119][120][121][122][123][124][125][126][127][128][129][130][131][132][133][134][135][136][137][138][139][140][141][142][143][144][145][72][71][70][69][68][67][66][65][64][63][62][61][60][59][58][57][56][55][54][53][52][51][50][49][48][47][46][45][44][43][42][41][40][39][38][37][36][35][34][33][32][31][30][29][28][27][26][25][24][23][22][21][20][19][18][17][16][15][14][13][12][11][10][9][8][7][6][5][4][3][2][1][0]\n",
      "second iteration - drop to 4mm scaling\n",
      "Rescaling reference volume [73] to 4 mm pixels\n",
      "Registering volumes ... [74][75][76][77][78][79][80][81][82][83][84][85][86][87][88][89][90][91][92][93][94][95][96][97][98][99][100][101][102][103][104][105][106][107][108][109][110][111][112][113][114][115][116][117][118][119][120][121][122][123][124][125][126][127][128][129][130][131][132][133][134][135][136][137][138][139][140][141][142][143][144][145][72][71][70][69][68][67][66][65][64][63][62][61][60][59][58][57][56][55][54][53][52][51][50][49][48][47][46][45][44][43][42][41][40][39][38][37][36][35][34][33][32][31][30][29][28][27][26][25][24][23][22][21][20][19][18][17][16][15][14][13][12][11][10][9][8][7][6][5][4][3][2][1][0]\n",
      "third iteration - 4mm scaling, eighth tolerance\n"
     ]
    },
    {
     "name": "stdout",
     "output_type": "stream",
     "text": [
      "refnum = 73\n",
      "Original_refvol = -1\n"
     ]
    },
    {
     "name": "stderr",
     "output_type": "stream",
     "text": [
      "Registering volumes ... [74][75][76][77][78][79][80][81][82][83][84][85][86][87][88][89][90][91][92][93][94][95][96][97][98][99][100][101][102][103][104][105][106][107][108][109][110][111][112][113][114][115][116][117][118][119][120][121][122][123][124][125][126][127][128][129][130][131][132][133][134][135][136][137][138][139][140][141][142][143][144][145][72][71][70][69][68][67][66][65][64][63][62][61][60][59][58][57][56][55][54][53][52][51][50][49][48][47][46][45][44][43][42][41][40][39][38][37][36][35][34][33][32][31][30][29][28][27][26][25][24][23][22][21][20][19][18][17][16][15][14][13][12][11][10][9][8][7][6][5][4][3][2][1][0]\n",
      "Saving motion corrected time series... \n"
     ]
    },
    {
     "data": {
      "text/plain": [
       "{}"
      ]
     },
     "execution_count": 4,
     "metadata": {},
     "output_type": "execute_result"
    }
   ],
   "source": [
    "path_original_data = os.path.join(bids_root, 'sub-01', 'func', 'sub-01_task-flanker_run-1_bold.nii.gz')\n",
    "path_moco_data = os.path.join(preproc_root, 'sub-01', 'func', 'sub-01_task-flanker_run-1_bold_moco')\n",
    "mcflirt(infile=path_original_data,o=path_moco_data, plots=True, report=True, dof=6, mats=True)"
   ]
  },
  {
   "cell_type": "code",
   "execution_count": 5,
   "id": "16d4bccb",
   "metadata": {},
   "outputs": [
    {
     "data": {
      "text/plain": [
       "Image(sub-01_task-flanker_run-1_bold_moco, /home/ffriedli/Desktop/MyFiles/NSSP/dataset/ds000102/derivatives/preprocessed_data/sub-01/func/sub-01_task-flanker_run-1_bold_moco.nii.gz)"
      ]
     },
     "execution_count": 5,
     "metadata": {},
     "output_type": "execute_result"
    }
   ],
   "source": [
    "reset_overlays()\n",
    "load(path_original_data)\n",
    "load(path_moco_data)"
   ]
  },
  {
   "cell_type": "code",
   "execution_count": 6,
   "id": "3d8b54f3",
   "metadata": {},
   "outputs": [
    {
     "data": {
      "text/html": [
       "<div>\n",
       "<style scoped>\n",
       "    .dataframe tbody tr th:only-of-type {\n",
       "        vertical-align: middle;\n",
       "    }\n",
       "\n",
       "    .dataframe tbody tr th {\n",
       "        vertical-align: top;\n",
       "    }\n",
       "\n",
       "    .dataframe thead th {\n",
       "        text-align: right;\n",
       "    }\n",
       "</style>\n",
       "<table border=\"1\" class=\"dataframe\">\n",
       "  <thead>\n",
       "    <tr style=\"text-align: right;\">\n",
       "      <th></th>\n",
       "      <th>Rotation x</th>\n",
       "      <th>Rotation y</th>\n",
       "      <th>Rotation z</th>\n",
       "      <th>Translation x</th>\n",
       "      <th>Translation y</th>\n",
       "      <th>Translation z</th>\n",
       "    </tr>\n",
       "  </thead>\n",
       "  <tbody>\n",
       "    <tr>\n",
       "      <th>0</th>\n",
       "      <td>-0.002731</td>\n",
       "      <td>-0.002763</td>\n",
       "      <td>-0.002376</td>\n",
       "      <td>-0.154286</td>\n",
       "      <td>0.011919</td>\n",
       "      <td>0.032888</td>\n",
       "    </tr>\n",
       "    <tr>\n",
       "      <th>1</th>\n",
       "      <td>-0.002989</td>\n",
       "      <td>-0.002625</td>\n",
       "      <td>-0.002376</td>\n",
       "      <td>-0.158850</td>\n",
       "      <td>0.027467</td>\n",
       "      <td>0.087529</td>\n",
       "    </tr>\n",
       "    <tr>\n",
       "      <th>2</th>\n",
       "      <td>-0.002903</td>\n",
       "      <td>-0.002552</td>\n",
       "      <td>-0.002242</td>\n",
       "      <td>-0.166514</td>\n",
       "      <td>0.026961</td>\n",
       "      <td>0.099782</td>\n",
       "    </tr>\n",
       "    <tr>\n",
       "      <th>3</th>\n",
       "      <td>-0.002523</td>\n",
       "      <td>-0.002763</td>\n",
       "      <td>-0.002376</td>\n",
       "      <td>-0.166644</td>\n",
       "      <td>0.014205</td>\n",
       "      <td>0.087150</td>\n",
       "    </tr>\n",
       "    <tr>\n",
       "      <th>4</th>\n",
       "      <td>-0.002404</td>\n",
       "      <td>-0.002709</td>\n",
       "      <td>-0.002376</td>\n",
       "      <td>-0.168801</td>\n",
       "      <td>-0.007525</td>\n",
       "      <td>0.062447</td>\n",
       "    </tr>\n",
       "    <tr>\n",
       "      <th>...</th>\n",
       "      <td>...</td>\n",
       "      <td>...</td>\n",
       "      <td>...</td>\n",
       "      <td>...</td>\n",
       "      <td>...</td>\n",
       "      <td>...</td>\n",
       "    </tr>\n",
       "    <tr>\n",
       "      <th>141</th>\n",
       "      <td>0.001576</td>\n",
       "      <td>0.000096</td>\n",
       "      <td>-0.001420</td>\n",
       "      <td>-0.047908</td>\n",
       "      <td>0.071218</td>\n",
       "      <td>-0.203898</td>\n",
       "    </tr>\n",
       "    <tr>\n",
       "      <th>142</th>\n",
       "      <td>0.001383</td>\n",
       "      <td>-0.000248</td>\n",
       "      <td>-0.001420</td>\n",
       "      <td>-0.041588</td>\n",
       "      <td>0.098485</td>\n",
       "      <td>-0.208978</td>\n",
       "    </tr>\n",
       "    <tr>\n",
       "      <th>143</th>\n",
       "      <td>0.001342</td>\n",
       "      <td>-0.000108</td>\n",
       "      <td>-0.001420</td>\n",
       "      <td>-0.036894</td>\n",
       "      <td>0.079022</td>\n",
       "      <td>-0.195061</td>\n",
       "    </tr>\n",
       "    <tr>\n",
       "      <th>144</th>\n",
       "      <td>0.001722</td>\n",
       "      <td>-0.000180</td>\n",
       "      <td>-0.001420</td>\n",
       "      <td>-0.036915</td>\n",
       "      <td>0.094487</td>\n",
       "      <td>-0.209467</td>\n",
       "    </tr>\n",
       "    <tr>\n",
       "      <th>145</th>\n",
       "      <td>0.002805</td>\n",
       "      <td>0.001780</td>\n",
       "      <td>-0.002427</td>\n",
       "      <td>0.047630</td>\n",
       "      <td>0.234454</td>\n",
       "      <td>-0.592887</td>\n",
       "    </tr>\n",
       "  </tbody>\n",
       "</table>\n",
       "<p>146 rows × 6 columns</p>\n",
       "</div>"
      ],
      "text/plain": [
       "     Rotation x  Rotation y  ...  Translation y  Translation z\n",
       "0     -0.002731   -0.002763  ...       0.011919       0.032888\n",
       "1     -0.002989   -0.002625  ...       0.027467       0.087529\n",
       "2     -0.002903   -0.002552  ...       0.026961       0.099782\n",
       "3     -0.002523   -0.002763  ...       0.014205       0.087150\n",
       "4     -0.002404   -0.002709  ...      -0.007525       0.062447\n",
       "..          ...         ...  ...            ...            ...\n",
       "141    0.001576    0.000096  ...       0.071218      -0.203898\n",
       "142    0.001383   -0.000248  ...       0.098485      -0.208978\n",
       "143    0.001342   -0.000108  ...       0.079022      -0.195061\n",
       "144    0.001722   -0.000180  ...       0.094487      -0.209467\n",
       "145    0.002805    0.001780  ...       0.234454      -0.592887\n",
       "\n",
       "[146 rows x 6 columns]"
      ]
     },
     "execution_count": 6,
     "metadata": {},
     "output_type": "execute_result"
    }
   ],
   "source": [
    "def load_mot_params_fsl_6_dof(path):\n",
    "    return pd.read_csv(path, sep='  ', header=None, \n",
    "            engine='python', names=['Rotation x', 'Rotation y', 'Rotation z','Translation x', 'Translation y', 'Translation z'])\n",
    "\n",
    "mot_params = load_mot_params_fsl_6_dof(op.join(preproc_root, 'sub-01', 'func', 'sub-01_task-flanker_run-1_bold_moco.par'))\n",
    "mot_params"
   ]
  },
  {
   "cell_type": "code",
   "execution_count": 7,
   "id": "32c57a8c",
   "metadata": {},
   "outputs": [],
   "source": [
    "def compute_FD_power(mot_params):\n",
    "    framewise_diff = mot_params.diff().iloc[1:]\n",
    "\n",
    "    rot_params = framewise_diff[['Rotation x', 'Rotation y', 'Rotation z']]\n",
    "    # Estimating displacement on a 50mm radius sphere\n",
    "    # To know this one, we can remember the definition of the radian!\n",
    "    # Indeed, let the radian be theta, the arc length be s and the radius be r.\n",
    "    # Then theta = s / r\n",
    "    # We want to determine here s, for a sphere of 50mm radius and knowing theta. Easy enough!\n",
    "    \n",
    "    # Another way to think about it is through the line integral along the circle.\n",
    "    # Integrating from 0 to theta with radius 50 will give you, unsurprisingly, r0 theta.\n",
    "    converted_rots = rot_params*50\n",
    "    trans_params = framewise_diff[['Translation x', 'Translation y', 'Translation z']]\n",
    "    fd = converted_rots.abs().sum(axis=1) + trans_params.abs().sum(axis=1)\n",
    "    return fd\n",
    "\n",
    "fd = compute_FD_power(mot_params).to_numpy()"
   ]
  },
  {
   "cell_type": "code",
   "execution_count": 8,
   "id": "96205c84",
   "metadata": {},
   "outputs": [],
   "source": [
    "threshold = np.quantile(fd,0.75) + 1.5*(np.quantile(fd,0.75) - np.quantile(fd,0.25))"
   ]
  },
  {
   "cell_type": "code",
   "execution_count": 17,
   "id": "36a7e8c8",
   "metadata": {},
   "outputs": [
    {
     "data": {
      "image/png": "[encoded data removed]",
      "text/plain": [
       "<Figure size 640x480 with 1 Axes>"
      ]
     },
     "metadata": {},
     "output_type": "display_data"
    }
   ],
   "source": [
    "%matplotlib inline\n",
    "plt.plot(list(range(1, fd.size+1)), fd)\n",
    "plt.xlabel('Volume')\n",
    "plt.xlim([0,150])\n",
    "plt.ylabel('FD displacement (mm)')\n",
    "plt.hlines(threshold, 0, 370,colors='black', linestyles='dashed', label='FD threshold')\n",
    "plt.legend()\n",
    "plt.show()"
   ]
  },
  {
   "cell_type": "code",
   "execution_count": 10,
   "id": "0d7e5c3f",
   "metadata": {},
   "outputs": [
    {
     "data": {
      "text/plain": [
       "array([ 17,  18,  19,  36,  41,  59,  60,  95,  96, 120, 145])"
      ]
     },
     "execution_count": 10,
     "metadata": {},
     "output_type": "execute_result"
    }
   ],
   "source": [
    "np.where(fd > threshold)[0] + 1"
   ]
  },
  {
   "cell_type": "code",
   "execution_count": 18,
   "id": "d27308e6",
   "metadata": {
    "scrolled": true
   },
   "outputs": [
    {
     "name": "stderr",
     "output_type": "stream",
     "text": [
      "Processed data will be saved as /home/ffriedli/Desktop/MyFiles/NSSP/dataset/ds000102/derivatives/preprocessed_data/sub-01/func/sub-01_task-flanker_run-2_bold_moco\n",
      "\n",
      "McFLIRT v 2.0 - FMRI motion correction\n",
      "\n",
      "Reading time series... \n",
      "first iteration - 8mm scaling, set tolerance\n",
      "Rescaling reference volume [73] to 8 mm pixels\n",
      "Registering volumes ... [74][75][76][77][78][79][80][81][82][83][84][85][86][87][88][89][90][91][92][93][94][95][96][97][98][99][100][101][102][103][104][105][106][107][108][109][110][111][112][113][114][115][116][117][118][119][120][121][122][123][124][125][126][127][128][129][130][131][132][133][134][135][136][137][138][139][140][141][142][143][144][145][72][71][70][69][68][67][66][65][64][63][62][61][60][59][58][57][56][55][54][53][52][51][50][49][48][47][46][45][44][43][42][41][40][39][38][37][36][35][34][33][32][31][30][29][28][27][26][25][24][23][22][21][20][19][18][17][16][15][14][13][12][11][10][9][8][7][6][5][4][3][2][1][0]\n",
      "second iteration - drop to 4mm scaling\n",
      "Rescaling reference volume [73] to 4 mm pixels\n",
      "Registering volumes ... [74][75][76][77][78][79][80][81][82][83][84][85][86][87][88][89][90][91][92][93][94][95][96][97][98][99][100][101][102][103][104][105][106][107][108][109][110][111][112][113][114][115][116][117][118][119][120][121][122][123][124][125][126][127][128][129][130][131][132][133][134][135][136][137][138][139][140][141][142][143][144][145][72][71][70][69][68][67][66][65][64][63][62][61][60][59][58][57][56][55][54][53][52][51][50][49][48][47][46][45][44][43][42][41][40][39][38][37][36][35][34][33][32][31][30][29][28][27][26][25][24][23][22][21][20][19][18][17][16][15][14][13][12][11][10][9][8][7][6][5][4][3][2][1][0]\n",
      "third iteration - 4mm scaling, eighth tolerance\n"
     ]
    },
    {
     "name": "stdout",
     "output_type": "stream",
     "text": [
      "refnum = 73\n",
      "Original_refvol = -1\n"
     ]
    },
    {
     "name": "stderr",
     "output_type": "stream",
     "text": [
      "Registering volumes ... [74][75][76][77][78][79][80][81][82][83][84][85][86][87][88][89][90][91][92][93][94][95][96][97][98][99][100][101][102][103][104][105][106][107][108][109][110][111][112][113][114][115][116][117][118][119][120][121][122][123][124][125][126][127][128][129][130][131][132][133][134][135][136][137][138][139][140][141][142][143][144][145][72][71][70][69][68][67][66][65][64][63][62][61][60][59][58][57][56][55][54][53][52][51][50][49][48][47][46][45][44][43][42][41][40][39][38][37][36][35][34][33][32][31][30][29][28][27][26][25][24][23][22][21][20][19][18][17][16][15][14][13][12][11][10][9][8][7][6][5][4][3][2][1][0]\n",
      "Saving motion corrected time series... \n"
     ]
    },
    {
     "data": {
      "text/plain": [
       "{}"
      ]
     },
     "execution_count": 18,
     "metadata": {},
     "output_type": "execute_result"
    }
   ],
   "source": [
    "path_original_data = os.path.join(bids_root, 'sub-01', 'func', 'sub-01_task-flanker_run-2_bold.nii.gz')\n",
    "path_moco_data = os.path.join(preproc_root, 'sub-01', 'func', 'sub-01_task-flanker_run-2_bold_moco')\n",
    "mcflirt(infile=path_original_data,o=path_moco_data, plots=True, report=True, dof=6, mats=True)"
   ]
  },
  {
   "cell_type": "code",
   "execution_count": null,
   "id": "de7d41d8",
   "metadata": {},
   "outputs": [],
   "source": []
  },
  {
   "cell_type": "code",
   "execution_count": 31,
   "id": "04477e67",
   "metadata": {},
   "outputs": [
    {
     "data": {
      "text/plain": [
       "Image(sub-01_task-flanker_run-2_bold_moco, /home/ffriedli/Desktop/MyFiles/NSSP/dataset/ds000102/derivatives/preprocessed_data/sub-01/func/sub-01_task-flanker_run-2_bold_moco.nii.gz)"
      ]
     },
     "execution_count": 31,
     "metadata": {},
     "output_type": "execute_result"
    }
   ],
   "source": [
    "reset_overlays()\n",
    "load(path_original_data)\n",
    "load(path_moco_data)"
   ]
  },
  {
   "cell_type": "markdown",
   "id": "58bf526d",
   "metadata": {},
   "source": [
    "3) For motion corrected data select a Volume and visualize it "
   ]
  },
  {
   "cell_type": "code",
   "execution_count": 27,
   "id": "637218ef",
   "metadata": {},
   "outputs": [
    {
     "data": {
      "text/plain": [
       "{}"
      ]
     },
     "execution_count": 27,
     "metadata": {},
     "output_type": "execute_result"
    }
   ],
   "source": [
    "output_path_volume = os.path.join(preproc_root, 'sub-01', 'func', 'sub-01_task-flanker_run-1_bold_bbr')\n",
    "fslroi(path_moco_data,output_path_volume, str(50), str(1))"
   ]
  },
  {
   "cell_type": "code",
   "execution_count": 28,
   "id": "f4da6bfe",
   "metadata": {},
   "outputs": [
    {
     "data": {
      "text/plain": [
       "Image(sub-01_task-flanker_run-1_bold_bbr, /home/ffriedli/Desktop/MyFiles/NSSP/dataset/ds000102/derivatives/preprocessed_data/sub-01/func/sub-01_task-flanker_run-1_bold_bbr.nii.gz)"
      ]
     },
     "execution_count": 28,
     "metadata": {},
     "output_type": "execute_result"
    }
   ],
   "source": [
    "reset_overlays()\n",
    "load(output_path_volume)"
   ]
  },
  {
   "cell_type": "markdown",
   "id": "d743e15d",
   "metadata": {},
   "source": [
    "<center><img src=\"imgs/Volume_of_choice.png\"/>\n",
    "    <p style=\"text-align:center;\"><i>Volume Extraction</i></p></center>"
   ]
  },
  {
   "cell_type": "code",
   "execution_count": null,
   "id": "7bf7609f",
   "metadata": {},
   "outputs": [],
   "source": []
  }
 ],
 "metadata": {
  "kernelspec": {
   "display_name": "Python 3",
   "language": "python",
   "name": "python3"
  },
  "language_info": {
   "codemirror_mode": {
    "name": "ipython",
    "version": 3
   },
   "file_extension": ".py",
   "mimetype": "text/x-python",
   "name": "python",
   "nbconvert_exporter": "python",
   "pygments_lexer": "ipython3",
   "version": "3.9.18"
  }
 },
 "nbformat": 4,
 "nbformat_minor": 5
}
